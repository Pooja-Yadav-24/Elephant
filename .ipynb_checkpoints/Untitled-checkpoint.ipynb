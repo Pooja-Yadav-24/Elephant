{
 "cells": [
  {
   "cell_type": "code",
   "execution_count": 4,
   "id": "f6a58759-6256-4f3b-9119-d638c75a7361",
   "metadata": {},
   "outputs": [],
   "source": [
    "import cv2\n",
    "import matplotlib.pyplot as plt\n",
    "import numpy as np"
   ]
  },
  {
   "cell_type": "code",
   "execution_count": 7,
   "id": "d8766c5d-1843-44ba-bc1e-ce1aa90d9a76",
   "metadata": {},
   "outputs": [],
   "source": [
    "import cv2\n",
    "# Function to extract frames\n",
    "def FrameCapture(path):\n",
    "    # Path to video file\n",
    "    vidObj = cv2.VideoCapture(path)\n",
    "    # Used as a counter variable\n",
    "    count = 0\n",
    "    # Checks whether frames were extracted\n",
    "    success, image = vidObj.read()\n",
    "    while success:\n",
    "        # Saves the frames with frame-count\n",
    "        cv2.imwrite(\"frame%d.jpg\" % count, image)\n",
    "        # Increment the counter\n",
    "        count += 1\n",
    "        # Read the next frame\n",
    "        success, image = vidObj.read()"
   ]
  },
  {
   "cell_type": "code",
   "execution_count": 6,
   "id": "8b9761b5-a78d-44ba-b3b4-93cd655dee42",
   "metadata": {},
   "outputs": [],
   "source": [
    "#d=FrameCapture(\"C:\\\\Users\\\\pooja\\\\Project\\\\video (1080p).mp4\")"
   ]
  },
  {
   "cell_type": "code",
   "execution_count": null,
   "id": "07e42941-3850-4eb6-966d-82651269ef8b",
   "metadata": {},
   "outputs": [],
   "source": []
  }
 ],
 "metadata": {
  "kernelspec": {
   "display_name": "Python 3 (ipykernel)",
   "language": "python",
   "name": "python3"
  },
  "language_info": {
   "codemirror_mode": {
    "name": "ipython",
    "version": 3
   },
   "file_extension": ".py",
   "mimetype": "text/x-python",
   "name": "python",
   "nbconvert_exporter": "python",
   "pygments_lexer": "ipython3",
   "version": "3.11.4"
  }
 },
 "nbformat": 4,
 "nbformat_minor": 5
}
